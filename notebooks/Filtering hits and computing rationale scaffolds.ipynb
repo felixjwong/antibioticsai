{
 "cells": [
  {
   "cell_type": "code",
   "execution_count": 1,
   "metadata": {},
   "outputs": [
    {
     "name": "stderr",
     "output_type": "stream",
     "text": [
      "<frozen importlib._bootstrap>:219: RuntimeWarning: to-Python converter for boost::shared_ptr<RDKit::FilterCatalogEntry const> already registered; second conversion method ignored.\n"
     ]
    }
   ],
   "source": [
    "import rdkit\n",
    "from rdkit import Chem\n",
    "from rdkit.Chem import rdFMCS\n",
    "from rdkit.Chem import Draw\n",
    "import time\n",
    "import glob\n",
    "import random\n",
    "from random import choices\n",
    "from rdkit.Chem.FilterCatalog import FilterCatalog, FilterCatalogParams\n",
    "from rdkit import DataStructs\n",
    "from rdkit.Chem import AllChem"
   ]
  },
  {
   "cell_type": "code",
   "execution_count": 2,
   "metadata": {},
   "outputs": [
    {
     "name": "stderr",
     "output_type": "stream",
     "text": [
      "RDKit ERROR: [02:06:04] SMILES Parse Error: syntax error while parsing: SMILES\n",
      "[02:06:04] SMILES Parse Error: syntax error while parsing: SMILES\n",
      "RDKit ERROR: [02:06:04] SMILES Parse Error: Failed parsing SMILES '﻿SMILES' for input: '﻿SMILES'\n",
      "[02:06:04] SMILES Parse Error: Failed parsing SMILES '﻿SMILES' for input: '﻿SMILES'\n"
     ]
    }
   ],
   "source": [
    "## Load hits (or compounds of interest, e.g. non-hits)\n",
    "total_hits = []\n",
    "total_smi = []\n",
    "smi_lib=[]\n",
    "total_activity = []\n",
    "\n",
    "for file in glob.glob(\"./hits.csv\"):\n",
    "    fopen = open(file);\n",
    "    for line in fopen.readlines():\n",
    "        y = [value for value in line.split('\\n')]\n",
    "        y = y[0].split(\",\")\n",
    "        try: \n",
    "            m = Chem.MolFromSmiles(y[0].replace('\"',''))\n",
    "            if m is not None:\n",
    "                total_hits.append(m)\n",
    "                total_smi.append(y[0].replace('\"',''))\n",
    "                smi_lib.append(y[1].replace('\"','') == \"MCULE\")\n",
    "                total_activity.append(y[2])\n",
    "        except:\n",
    "            x=1;\n",
    "    fopen.close()\n",
    "# 0.8, 0.8"
   ]
  },
  {
   "cell_type": "code",
   "execution_count": 3,
   "metadata": {},
   "outputs": [
    {
     "data": {
      "text/plain": [
       "3646"
      ]
     },
     "execution_count": 3,
     "metadata": {},
     "output_type": "execute_result"
    }
   ],
   "source": [
    "## Check number of hits\n",
    "len(total_hits)"
   ]
  },
  {
   "cell_type": "code",
   "execution_count": 4,
   "metadata": {},
   "outputs": [],
   "source": [
    "# Initialize substructure filter\n",
    "params = FilterCatalogParams()\n",
    "params.AddCatalog(FilterCatalogParams.FilterCatalogs.PAINS)\n",
    "params.AddCatalog(FilterCatalogParams.FilterCatalogs.BRENK)\n",
    "catalog = FilterCatalog(params)\n",
    "\n",
    "# Search for PAINS or Brenk alerts\n",
    "clean = []\n",
    "cleanidx = []\n",
    "for i in range(len(total_hits)):\n",
    "    entry = catalog.GetFirstMatch(total_hits[i])  # Get the first matching PAINS\n",
    "    if entry is not None:\n",
    "        x=1\n",
    "    else:\n",
    "        # collect indices of molecules without PAINS\n",
    "        clean.append(total_hits[i])\n",
    "        cleanidx.append(i)"
   ]
  },
  {
   "cell_type": "code",
   "execution_count": 5,
   "metadata": {},
   "outputs": [],
   "source": [
    "# Filter based on Tanimono similarity with respect to active compounds in the training set\n",
    "training_set = '../working_example/train.csv'\n",
    "tani = []\n",
    "fopen = open(training_set);\n",
    "for line in fopen.readlines():\n",
    "    y = [value for value in line.split('\\n')]\n",
    "    y = y[0].split(\",\")\n",
    "    if y[1] == \"1\":\n",
    "        m = Chem.MolFromSmiles(y[0])\n",
    "        if m is not None:\n",
    "            p = AllChem.GetMorganFingerprintAsBitVect(m,2,nBits=2048) # Chem.RDKFingerprint()\n",
    "            tani.append(p)\n",
    "fopen.close()"
   ]
  },
  {
   "cell_type": "code",
   "execution_count": 6,
   "metadata": {},
   "outputs": [
    {
     "data": {
      "text/plain": [
       "512"
      ]
     },
     "execution_count": 6,
     "metadata": {},
     "output_type": "execute_result"
    }
   ],
   "source": [
    "## Check number of active compounds\n",
    "len(tani)"
   ]
  },
  {
   "cell_type": "code",
   "execution_count": 7,
   "metadata": {},
   "outputs": [],
   "source": [
    "## Calculate min Tanimoto distance for each compound\n",
    "TANI=[]\n",
    "for m in clean:\n",
    "    thisp = AllChem.GetMorganFingerprintAsBitVect(m,2,nBits=2048) \n",
    "    maxp = 0\n",
    "    for p in tani:\n",
    "        tanimoto = DataStructs.FingerprintSimilarity(thisp,p)\n",
    "        if tanimoto > maxp:\n",
    "            maxp = tanimoto\n",
    "    TANI.append(maxp)\n",
    "    \n",
    "# Threshold based on min Tanimoto distance\n",
    "clean_tani=[];\n",
    "cleanidx_tani=[]\n",
    "for i in range(len(TANI)):\n",
    "    if TANI[i] < 0.5:\n",
    "        clean_tani.append(clean[i])\n",
    "        cleanidx_tani.append(cleanidx[i])"
   ]
  },
  {
   "cell_type": "code",
   "execution_count": 8,
   "metadata": {},
   "outputs": [],
   "source": [
    "# Remove b-lactams and quinolones\n",
    "clean_tani_bl_fl =[]\n",
    "clean_tani_bl_fl_idx = []\n",
    "bls=[]\n",
    "fls=[]\n",
    "bl=Chem.MolFromSmiles('C1CNC1=O')\n",
    "fl=Chem.MolFromSmiles('C1=CC=C2C(=C1)C(=O)C=CN2')\n",
    "for i in range(len(clean_tani)):\n",
    "        this_MCS = Chem.MolFromSmarts(rdFMCS.FindMCS([bl,clean_tani[i]],timeout=1,bondCompare=rdFMCS.BondCompare.CompareOrderExact, completeRingsOnly=True).smartsString);\n",
    "        if this_MCS.GetNumAtoms() >=4:\n",
    "            bls.append(i)\n",
    "            continue\n",
    "        this_MCS = Chem.MolFromSmarts(rdFMCS.FindMCS([fl,clean_tani[i]],timeout=1,bondCompare=rdFMCS.BondCompare.CompareOrderExact, completeRingsOnly=True).smartsString);\n",
    "        if this_MCS.GetNumAtoms() >=11:\n",
    "            fls.append(i)\n",
    "            continue\n",
    "        clean_tani_bl_fl.append(clean_tani[i])\n",
    "        clean_tani_bl_fl_idx.append(cleanidx_tani[i])\n",
    "            "
   ]
  },
  {
   "cell_type": "code",
   "execution_count": 9,
   "metadata": {},
   "outputs": [
    {
     "data": {
      "text/plain": [
       "1261"
      ]
     },
     "execution_count": 9,
     "metadata": {},
     "output_type": "execute_result"
    }
   ],
   "source": [
    "## Check number of remaining compounds\n",
    "len(clean_tani_bl_fl)"
   ]
  },
  {
   "cell_type": "code",
   "execution_count": null,
   "metadata": {},
   "outputs": [],
   "source": []
  },
  {
   "cell_type": "code",
   "execution_count": 10,
   "metadata": {},
   "outputs": [
    {
     "name": "stderr",
     "output_type": "stream",
     "text": [
      "RDKit ERROR: [02:06:28] SMILES Parse Error: syntax error while parsing: Rationale\n",
      "RDKit ERROR: [02:06:28] SMILES Parse Error: Failed parsing SMILES '﻿Rationale' for input: '﻿Rationale'\n",
      "[02:06:28] SMILES Parse Error: syntax error while parsing: Rationale\n",
      "[02:06:28] SMILES Parse Error: Failed parsing SMILES '﻿Rationale' for input: '﻿Rationale'\n"
     ]
    },
    {
     "data": {
      "text/plain": [
       "186"
      ]
     },
     "execution_count": 10,
     "metadata": {},
     "output_type": "execute_result"
    }
   ],
   "source": [
    "## Load rationales to compute scaffolds\n",
    "rationales=[]\n",
    "for file in glob.glob(\"./rationales.csv\"):\n",
    "    fopen = open(file);\n",
    "    for line in fopen.readlines():\n",
    "        try:\n",
    "            y = [value for value in line.split('\\n')]\n",
    "            y = y[0].split(\",\")\n",
    "            m = Chem.MolFromSmiles(y[0])\n",
    "            if m is not None:\n",
    "                rationales.append(m)\n",
    "        except:\n",
    "            x=1\n",
    "len(rationales)"
   ]
  },
  {
   "cell_type": "code",
   "execution_count": 11,
   "metadata": {},
   "outputs": [
    {
     "name": "stdout",
     "output_type": "stream",
     "text": [
      "--- 6.311662197113037 seconds ---\n"
     ]
    }
   ],
   "source": [
    "## Sample scaffolds shared between rationales\n",
    "\n",
    "### User-defined parameters\n",
    "N0 = 12 # Low atom threshold in any scaffold\n",
    "N1 = 16 # High atom threshold in any scaffold\n",
    "NUM_GROUPS = 5 # Number of different groups to try\n",
    "NUM_ITER = 1000 # Number of pairs to test in each run\n",
    "\n",
    "\n",
    "### Main scaffold computation and mining script ###\n",
    "start_time = time.time()\n",
    "\n",
    "# Define some lists to hold variables of interest\n",
    "TOPLIST = []\n",
    "TOPLIST_IDX = []\n",
    "ASSOCIATED_NUMs =[ ]\n",
    "ASSOCIATED_RATIONALES=[]\n",
    "RATIONALES_LEFT=[]\n",
    "TRIED = []\n",
    "\n",
    "for IT in range(NUM_GROUPS):\n",
    "    toplist = []\n",
    "    toplist_idx = []\n",
    "    rationales_associated = []\n",
    "    associated_nums = []\n",
    "    associated_rationales = []\n",
    "    tried = []\n",
    "    rationales_left = [(rationales[i],i) for i in range(0,len(rationales))] # Keep a tally of the rationales not in any scaffold\n",
    "\n",
    "    for ITER in range(NUM_ITER):\n",
    "        yy = random.sample(range(0, len(rationales_left)), 2); # Sample two remaining rationales at random\n",
    "        if yy in tried:\n",
    "            continue\n",
    "        tried.append(yy)\n",
    "        \n",
    "        # Calculate scaffold of two rationales\n",
    "        this_MCS = Chem.MolFromSmarts(rdFMCS.FindMCS([rationales_left[x][0] for x in yy],timeout=1,bondCompare=rdFMCS.BondCompare.CompareOrderExact,completeRingsOnly=True).smartsString);\n",
    "        this_idx = [rationales_left[x][1] for x in yy];\n",
    "\n",
    "        if this_MCS.GetNumAtoms() < N0 or this_MCS.GetNumAtoms() > N1:\n",
    "            continue\n",
    "        toplist.append(this_MCS) # try out scaffold by tentatively adding it to list\n",
    "        toplist_idx.append(this_idx)\n",
    "        associated_nums.append(0)\n",
    "        associated_rationales.append([])\n",
    "        rationales_left_update = []\n",
    "\n",
    "        # Check if other hits contain scaffold using HasSubstructMatch()\n",
    "        for i in range(len(rationales_left)):\n",
    "            test_rationale = rationales_left[i][0]\n",
    "            test_MCS = toplist[-1]\n",
    "            \n",
    "            if test_rationale.HasSubstructMatch(test_MCS): \n",
    "                associated_nums[-1] = associated_nums[-1] + 1\n",
    "                associated_rationales[-1].append(rationales_left[i][1])\n",
    "                rationales_associated.append(rationales_left[i][0])\n",
    "            else:\n",
    "                rationales_left_update.append(rationales_left[i])\n",
    "\n",
    "        if associated_nums[-1] == 0: # useless scaffold\n",
    "            associated_nums.pop()\n",
    "            associated_rationales.pop()\n",
    "            toplist.pop()\n",
    "            toplist_idx.pop()\n",
    "\n",
    "        rationales_left = rationales_left_update\n",
    "\n",
    "    TOPLIST.append(toplist)\n",
    "    TOPLIST_IDX.append(toplist_idx)\n",
    "    ASSOCIATED_NUMs.append(associated_nums)\n",
    "    ASSOCIATED_RATIONALES.append(associated_rationales)\n",
    "    RATIONALES_LEFT.append(rationales_left)\n",
    "    TRIED.append(tried)\n",
    "\n",
    "print(\"--- %s seconds ---\" % (time.time() - start_time))"
   ]
  },
  {
   "cell_type": "code",
   "execution_count": 12,
   "metadata": {},
   "outputs": [
    {
     "name": "stdout",
     "output_type": "stream",
     "text": [
      "Number of rationales: 186\n",
      "Number of associated rationales in each group: [2, 5, 2, 5]\n",
      "Total number of associated rationales in all groups: 14\n",
      "Number of remaining rationales: 172\n"
     ]
    },
    {
     "data": {
      "image/svg+xml": [
       "<svg xmlns=\"http://www.w3.org/2000/svg\" xmlns:rdkit=\"http://www.rdkit.org/xml\" xmlns:xlink=\"http://www.w3.org/1999/xlink\" version=\"1.1\" baseProfile=\"full\" xml:space=\"preserve\" width=\"1000px\" height=\"200px\" viewBox=\"0 0 1000 200\">\n",
       "<!-- END OF HEADER -->\n",
       "<rect style=\"opacity:1.0;fill:#FFFFFF;stroke:none\" width=\"1000\" height=\"200\" x=\"0\" y=\"0\"> </rect>\n",
       "<rect style=\"opacity:1.0;fill:#FFFFFF;stroke:none\" width=\"1000\" height=\"200\" x=\"0\" y=\"0\"> </rect>\n",
       "<rect style=\"opacity:1.0;fill:#FFFFFF;stroke:none\" width=\"1000\" height=\"200\" x=\"0\" y=\"0\"> </rect>\n",
       "<rect style=\"opacity:1.0;fill:#FFFFFF;stroke:none\" width=\"1000\" height=\"200\" x=\"0\" y=\"0\"> </rect>\n",
       "<rect style=\"opacity:1.0;fill:#FFFFFF;stroke:none\" width=\"1000\" height=\"200\" x=\"0\" y=\"0\"> </rect>\n",
       "<path class=\"bond-0\" d=\"M 56.3466,95.074 L 40.2551,77.8456\" style=\"fill:none;fill-rule:evenodd;stroke:#000000;stroke-width:2.0px;stroke-linecap:butt;stroke-linejoin:miter;stroke-opacity:1\"/>\n",
       "<path class=\"bond-0\" d=\"M 57.3786,89.2714 L 46.1145,77.2116\" style=\"fill:none;fill-rule:evenodd;stroke:#000000;stroke-width:2.0px;stroke-linecap:butt;stroke-linejoin:miter;stroke-opacity:1;stroke-dasharray:6,6\"/>\n",
       "<path class=\"bond-12\" d=\"M 56.3466,95.074 L 79.3126,89.7525\" style=\"fill:none;fill-rule:evenodd;stroke:#000000;stroke-width:2.0px;stroke-linecap:butt;stroke-linejoin:miter;stroke-opacity:1\"/>\n",
       "<path class=\"bond-12\" d=\"M 58.7272,89.6826 L 74.8034,85.9576\" style=\"fill:none;fill-rule:evenodd;stroke:#000000;stroke-width:2.0px;stroke-linecap:butt;stroke-linejoin:miter;stroke-opacity:1;stroke-dasharray:6,6\"/>\n",
       "<path class=\"bond-1\" d=\"M 40.2551,77.8456 L 47.1296,55.2958\" style=\"fill:none;fill-rule:evenodd;stroke:#000000;stroke-width:2.0px;stroke-linecap:butt;stroke-linejoin:miter;stroke-opacity:1\"/>\n",
       "<path class=\"bond-1\" d=\"M 45.7963,75.838 L 50.6084,60.0531\" style=\"fill:none;fill-rule:evenodd;stroke:#000000;stroke-width:2.0px;stroke-linecap:butt;stroke-linejoin:miter;stroke-opacity:1;stroke-dasharray:6,6\"/>\n",
       "<path class=\"bond-2\" d=\"M 47.1296,55.2958 L 70.0956,49.9743\" style=\"fill:none;fill-rule:evenodd;stroke:#000000;stroke-width:2.0px;stroke-linecap:butt;stroke-linejoin:miter;stroke-opacity:1\"/>\n",
       "<path class=\"bond-2\" d=\"M 51.6388,59.0907 L 67.715,55.3657\" style=\"fill:none;fill-rule:evenodd;stroke:#000000;stroke-width:2.0px;stroke-linecap:butt;stroke-linejoin:miter;stroke-opacity:1;stroke-dasharray:6,6\"/>\n",
       "<path class=\"bond-3\" d=\"M 70.0956,49.9743 L 86.1871,67.2027\" style=\"fill:none;fill-rule:evenodd;stroke:#000000;stroke-width:2.0px;stroke-linecap:butt;stroke-linejoin:miter;stroke-opacity:1\"/>\n",
       "<path class=\"bond-3\" d=\"M 69.0636,55.7769 L 80.3277,67.8367\" style=\"fill:none;fill-rule:evenodd;stroke:#000000;stroke-width:2.0px;stroke-linecap:butt;stroke-linejoin:miter;stroke-opacity:1;stroke-dasharray:6,6\"/>\n",
       "<path class=\"bond-4\" d=\"M 86.1871,67.2027 L 79.3126,89.7525\" style=\"fill:none;fill-rule:evenodd;stroke:#000000;stroke-width:2.0px;stroke-linecap:butt;stroke-linejoin:miter;stroke-opacity:1\"/>\n",
       "<path class=\"bond-4\" d=\"M 80.6459,69.2103 L 75.8338,84.9952\" style=\"fill:none;fill-rule:evenodd;stroke:#000000;stroke-width:2.0px;stroke-linecap:butt;stroke-linejoin:miter;stroke-opacity:1;stroke-dasharray:6,6\"/>\n",
       "<path class=\"bond-5\" d=\"M 86.1871,67.2027 L 109.153,61.8813\" style=\"fill:none;fill-rule:evenodd;stroke:#000000;stroke-width:2.0px;stroke-linecap:butt;stroke-linejoin:miter;stroke-opacity:1\"/>\n",
       "<path class=\"bond-6\" d=\"M 109.153,61.8813 L 112.918,52.9911\" style=\"fill:none;fill-rule:evenodd;stroke:#000000;stroke-width:2.0px;stroke-linecap:butt;stroke-linejoin:miter;stroke-opacity:1\"/>\n",
       "<path class=\"bond-6\" d=\"M 112.918,52.9911 L 116.684,44.101\" style=\"fill:none;fill-rule:evenodd;stroke:#0000FF;stroke-width:2.0px;stroke-linecap:butt;stroke-linejoin:miter;stroke-opacity:1\"/>\n",
       "<path class=\"bond-6\" d=\"M 114.624,61.053 L 117.26,54.8299\" style=\"fill:none;fill-rule:evenodd;stroke:#000000;stroke-width:2.0px;stroke-linecap:butt;stroke-linejoin:miter;stroke-opacity:1;stroke-dasharray:6,6\"/>\n",
       "<path class=\"bond-6\" d=\"M 117.26,54.8299 L 119.895,48.6068\" style=\"fill:none;fill-rule:evenodd;stroke:#0000FF;stroke-width:2.0px;stroke-linecap:butt;stroke-linejoin:miter;stroke-opacity:1;stroke-dasharray:6,6\"/>\n",
       "<path class=\"bond-13\" d=\"M 109.153,61.8813 L 116.494,68.2528\" style=\"fill:none;fill-rule:evenodd;stroke:#000000;stroke-width:2.0px;stroke-linecap:butt;stroke-linejoin:miter;stroke-opacity:1\"/>\n",
       "<path class=\"bond-13\" d=\"M 116.494,68.2528 L 123.836,74.6244\" style=\"fill:none;fill-rule:evenodd;stroke:#0000FF;stroke-width:2.0px;stroke-linecap:butt;stroke-linejoin:miter;stroke-opacity:1\"/>\n",
       "<path class=\"bond-13\" d=\"M 114.446,60.2319 L 119.585,64.692\" style=\"fill:none;fill-rule:evenodd;stroke:#000000;stroke-width:2.0px;stroke-linecap:butt;stroke-linejoin:miter;stroke-opacity:1;stroke-dasharray:6,6\"/>\n",
       "<path class=\"bond-13\" d=\"M 119.585,64.692 L 124.724,69.152\" style=\"fill:none;fill-rule:evenodd;stroke:#0000FF;stroke-width:2.0px;stroke-linecap:butt;stroke-linejoin:miter;stroke-opacity:1;stroke-dasharray:6,6\"/>\n",
       "<path class=\"bond-7\" d=\"M 121.468,40.4441 L 138.79,41.9456\" style=\"fill:none;fill-rule:evenodd;stroke:#0000FF;stroke-width:2.0px;stroke-linecap:butt;stroke-linejoin:miter;stroke-opacity:1\"/>\n",
       "<path class=\"bond-7\" d=\"M 123.659,45.3666 L 135.785,46.4177\" style=\"fill:none;fill-rule:evenodd;stroke:#0000FF;stroke-width:2.0px;stroke-linecap:butt;stroke-linejoin:miter;stroke-opacity:1;stroke-dasharray:6,6\"/>\n",
       "<path class=\"bond-8\" d=\"M 142.743,46.1369 L 144.949,55.6561\" style=\"fill:none;fill-rule:evenodd;stroke:#0000FF;stroke-width:2.0px;stroke-linecap:butt;stroke-linejoin:miter;stroke-opacity:1\"/>\n",
       "<path class=\"bond-8\" d=\"M 144.949,55.6561 L 147.155,65.1754\" style=\"fill:none;fill-rule:evenodd;stroke:#000000;stroke-width:2.0px;stroke-linecap:butt;stroke-linejoin:miter;stroke-opacity:1\"/>\n",
       "<path class=\"bond-8\" d=\"M 138.812,50.057 L 140.356,56.7204\" style=\"fill:none;fill-rule:evenodd;stroke:#0000FF;stroke-width:2.0px;stroke-linecap:butt;stroke-linejoin:miter;stroke-opacity:1;stroke-dasharray:6,6\"/>\n",
       "<path class=\"bond-8\" d=\"M 140.356,56.7204 L 141.9,63.3839\" style=\"fill:none;fill-rule:evenodd;stroke:#000000;stroke-width:2.0px;stroke-linecap:butt;stroke-linejoin:miter;stroke-opacity:1;stroke-dasharray:6,6\"/>\n",
       "<path class=\"bond-9\" d=\"M 147.155,65.1754 L 138.617,70.3149\" style=\"fill:none;fill-rule:evenodd;stroke:#000000;stroke-width:2.0px;stroke-linecap:butt;stroke-linejoin:miter;stroke-opacity:1\"/>\n",
       "<path class=\"bond-9\" d=\"M 138.617,70.3149 L 130.078,75.4544\" style=\"fill:none;fill-rule:evenodd;stroke:#0000FF;stroke-width:2.0px;stroke-linecap:butt;stroke-linejoin:miter;stroke-opacity:1\"/>\n",
       "<path class=\"bond-9\" d=\"M 142.162,62.6777 L 136.185,66.2754\" style=\"fill:none;fill-rule:evenodd;stroke:#000000;stroke-width:2.0px;stroke-linecap:butt;stroke-linejoin:miter;stroke-opacity:1;stroke-dasharray:6,6\"/>\n",
       "<path class=\"bond-9\" d=\"M 136.185,66.2754 L 130.208,69.873\" style=\"fill:none;fill-rule:evenodd;stroke:#0000FF;stroke-width:2.0px;stroke-linecap:butt;stroke-linejoin:miter;stroke-opacity:1;stroke-dasharray:6,6\"/>\n",
       "<path class=\"bond-10\" d=\"M 147.155,65.1754 L 156.644,69.1942\" style=\"fill:none;fill-rule:evenodd;stroke:#000000;stroke-width:2.0px;stroke-linecap:butt;stroke-linejoin:miter;stroke-opacity:1\"/>\n",
       "<path class=\"bond-10\" d=\"M 156.644,69.1942 L 166.133,73.2131\" style=\"fill:none;fill-rule:evenodd;stroke:#CCCC00;stroke-width:2.0px;stroke-linecap:butt;stroke-linejoin:miter;stroke-opacity:1\"/>\n",
       "<path class=\"bond-11\" d=\"M 169.369,78.4665 L 170.562,88.1161\" style=\"fill:none;fill-rule:evenodd;stroke:#CCCC00;stroke-width:2.0px;stroke-linecap:butt;stroke-linejoin:miter;stroke-opacity:1\"/>\n",
       "<path class=\"bond-11\" d=\"M 170.562,88.1161 L 171.754,97.7657\" style=\"fill:none;fill-rule:evenodd;stroke:#000000;stroke-width:2.0px;stroke-linecap:butt;stroke-linejoin:miter;stroke-opacity:1\"/>\n",
       "<path class=\"atom-7\" d=\"M 116.871 36.8354 L 119.059 40.3716 Q 119.276 40.7205, 119.625 41.3523 Q 119.974 41.984, 119.992 42.0218 L 119.992 36.8354 L 120.879 36.8354 L 120.879 43.5117 L 119.964 43.5117 L 117.616 39.6455 Q 117.343 39.1928, 117.05 38.6742 Q 116.767 38.1556, 116.683 37.9953 L 116.683 43.5117 L 115.815 43.5117 L 115.815 36.8354 L 116.871 36.8354 \" fill=\"#0000FF\"/>\n",
       "<path class=\"atom-8\" d=\"M 140.358 38.8713 L 142.545 42.4074 Q 142.762 42.7563, 143.111 43.3881 Q 143.46 44.0199, 143.479 44.0576 L 143.479 38.8713 L 144.365 38.8713 L 144.365 45.5475 L 143.45 45.5475 L 141.102 41.6813 Q 140.829 41.2287, 140.537 40.7101 Q 140.254 40.1914, 140.169 40.0311 L 140.169 45.5475 L 139.301 45.5475 L 139.301 38.8713 L 140.358 38.8713 \" fill=\"#0000FF\"/>\n",
       "<path class=\"atom-10\" d=\"M 125.481 73.9951 L 127.669 77.5313 Q 127.886 77.8802, 128.235 78.512 Q 128.584 79.1438, 128.603 79.1815 L 128.603 73.9951 L 129.489 73.9951 L 129.489 80.6714 L 128.574 80.6714 L 126.226 76.8052 Q 125.953 76.3525, 125.661 75.8339 Q 125.378 75.3153, 125.293 75.155 L 125.293 80.6714 L 124.425 80.6714 L 124.425 73.9951 L 125.481 73.9951 \" fill=\"#0000FF\"/>\n",
       "<path class=\"atom-11\" d=\"M 166.977 76.6607 Q 167.052 76.689, 167.363 76.821 Q 167.674 76.953, 168.014 77.0379 Q 168.363 77.1133, 168.702 77.1133 Q 169.334 77.1133, 169.702 76.8116 Q 170.069 76.5004, 170.069 75.9629 Q 170.069 75.5951, 169.881 75.3688 Q 169.702 75.1425, 169.419 75.0199 Q 169.136 74.8973, 168.664 74.7559 Q 168.07 74.5767, 167.712 74.407 Q 167.363 74.2373, 167.109 73.8789 Q 166.863 73.5206, 166.863 72.9171 Q 166.863 72.0778, 167.429 71.5592 Q 168.004 71.0406, 169.136 71.0406 Q 169.909 71.0406, 170.786 71.4083 L 170.569 72.1344 Q 169.768 71.8044, 169.164 71.8044 Q 168.514 71.8044, 168.155 72.0778 Q 167.797 72.3419, 167.806 72.8039 Q 167.806 73.1623, 167.985 73.3792 Q 168.174 73.596, 168.438 73.7186 Q 168.712 73.8412, 169.164 73.9827 Q 169.768 74.1713, 170.126 74.3598 Q 170.484 74.5484, 170.739 74.9351 Q 171.003 75.3123, 171.003 75.9629 Q 171.003 76.887, 170.381 77.3868 Q 169.768 77.8772, 168.74 77.8772 Q 168.146 77.8772, 167.693 77.7451 Q 167.25 77.6225, 166.722 77.4057 L 166.977 76.6607 \" fill=\"#CCCC00\"/>\n",
       "<path d=\"M 100.28 187.12 Q 101.272 187.12, 102.088 187.552 Q 102.904 187.968, 103.368 188.768 Q 103.832 189.552, 103.832 190.624 Q 103.832 191.792, 103.256 192.64 Q 102.696 193.472, 101.768 193.904 Q 100.84 194.336, 99.784 194.336 Q 98.744 194.336, 97.784 193.952 Q 96.824 193.568, 96.168 192.832 L 97.128 191.84 Q 97.656 192.416, 98.376 192.736 Q 99.096 193.04, 99.832 193.04 Q 100.84 193.04, 101.528 192.416 Q 102.232 191.792, 102.232 190.656 Q 102.232 189.456, 101.528 188.896 Q 100.84 188.32, 99.736 188.32 Q 98.744 188.32, 97.64 188.752 L 96.76 188.336 L 97.304 182.88 L 103.128 182.88 L 102.968 184.16 L 98.616 184.16 L 98.28 187.52 Q 99.288 187.12, 100.28 187.12 \" fill=\"#000000\"/>\n",
       "<path class=\"bond-1\" d=\"M 237.486,69.0581 L 236.349,59.3141\" style=\"fill:none;fill-rule:evenodd;stroke:#000000;stroke-width:2.0px;stroke-linecap:butt;stroke-linejoin:miter;stroke-opacity:1\"/>\n",
       "<path class=\"bond-1\" d=\"M 236.349,59.3141 L 235.212,49.5701\" style=\"fill:none;fill-rule:evenodd;stroke:#0000FF;stroke-width:2.0px;stroke-linecap:butt;stroke-linejoin:miter;stroke-opacity:1\"/>\n",
       "<path class=\"bond-2\" d=\"M 237.486,69.0581 L 259.13,78.3995\" style=\"fill:none;fill-rule:evenodd;stroke:#000000;stroke-width:2.0px;stroke-linecap:butt;stroke-linejoin:miter;stroke-opacity:1\"/>\n",
       "<path class=\"bond-0\" d=\"M 231.632,44.2955 L 222.37,40.2983\" style=\"fill:none;fill-rule:evenodd;stroke:#0000FF;stroke-width:2.0px;stroke-linecap:butt;stroke-linejoin:miter;stroke-opacity:1\"/>\n",
       "<path class=\"bond-0\" d=\"M 222.37,40.2983 L 213.109,36.3012\" style=\"fill:none;fill-rule:evenodd;stroke:#000000;stroke-width:2.0px;stroke-linecap:butt;stroke-linejoin:miter;stroke-opacity:1\"/>\n",
       "<path class=\"bond-3\" d=\"M 259.13,78.3995 L 261.272,87.9366\" style=\"fill:none;fill-rule:evenodd;stroke:#000000;stroke-width:2.0px;stroke-linecap:butt;stroke-linejoin:miter;stroke-opacity:1\"/>\n",
       "<path class=\"bond-3\" d=\"M 261.272,87.9366 L 263.414,97.4737\" style=\"fill:none;fill-rule:evenodd;stroke:#0000FF;stroke-width:2.0px;stroke-linecap:butt;stroke-linejoin:miter;stroke-opacity:1\"/>\n",
       "<path class=\"bond-3\" d=\"M 264.373,80.2276 L 265.872,86.9036\" style=\"fill:none;fill-rule:evenodd;stroke:#000000;stroke-width:2.0px;stroke-linecap:butt;stroke-linejoin:miter;stroke-opacity:1;stroke-dasharray:6,6\"/>\n",
       "<path class=\"bond-3\" d=\"M 265.872,86.9036 L 267.371,93.5795\" style=\"fill:none;fill-rule:evenodd;stroke:#0000FF;stroke-width:2.0px;stroke-linecap:butt;stroke-linejoin:miter;stroke-opacity:1;stroke-dasharray:6,6\"/>\n",
       "<path class=\"bond-15\" d=\"M 259.13,78.3995 L 279.41,66.3794\" style=\"fill:none;fill-rule:evenodd;stroke:#000000;stroke-width:2.0px;stroke-linecap:butt;stroke-linejoin:miter;stroke-opacity:1\"/>\n",
       "<path class=\"bond-15\" d=\"M 264.576,80.6525 L 278.772,72.2384\" style=\"fill:none;fill-rule:evenodd;stroke:#000000;stroke-width:2.0px;stroke-linecap:butt;stroke-linejoin:miter;stroke-opacity:1;stroke-dasharray:6,6\"/>\n",
       "<path class=\"bond-4\" d=\"M 267.417,101.693 L 284.725,103.312\" style=\"fill:none;fill-rule:evenodd;stroke:#0000FF;stroke-width:2.0px;stroke-linecap:butt;stroke-linejoin:miter;stroke-opacity:1\"/>\n",
       "<path class=\"bond-4\" d=\"M 270.452,97.2416 L 282.568,98.3749\" style=\"fill:none;fill-rule:evenodd;stroke:#0000FF;stroke-width:2.0px;stroke-linecap:butt;stroke-linejoin:miter;stroke-opacity:1;stroke-dasharray:6,6\"/>\n",
       "<path class=\"bond-5\" d=\"M 289.462,99.6693 L 295.46,85.7727\" style=\"fill:none;fill-rule:evenodd;stroke:#0000FF;stroke-width:2.0px;stroke-linecap:butt;stroke-linejoin:miter;stroke-opacity:1\"/>\n",
       "<path class=\"bond-5\" d=\"M 286.033,95.7166 L 290.231,85.9889\" style=\"fill:none;fill-rule:evenodd;stroke:#0000FF;stroke-width:2.0px;stroke-linecap:butt;stroke-linejoin:miter;stroke-opacity:1;stroke-dasharray:6,6\"/>\n",
       "<path class=\"bond-6\" d=\"M 293.988,79.2058 L 286.699,72.7926\" style=\"fill:none;fill-rule:evenodd;stroke:#0000FF;stroke-width:2.0px;stroke-linecap:butt;stroke-linejoin:miter;stroke-opacity:1\"/>\n",
       "<path class=\"bond-6\" d=\"M 286.699,72.7926 L 279.41,66.3794\" style=\"fill:none;fill-rule:evenodd;stroke:#000000;stroke-width:2.0px;stroke-linecap:butt;stroke-linejoin:miter;stroke-opacity:1\"/>\n",
       "<path class=\"bond-6\" d=\"M 288.686,80.8216 L 283.584,76.3323\" style=\"fill:none;fill-rule:evenodd;stroke:#0000FF;stroke-width:2.0px;stroke-linecap:butt;stroke-linejoin:miter;stroke-opacity:1;stroke-dasharray:6,6\"/>\n",
       "<path class=\"bond-6\" d=\"M 283.584,76.3323 L 278.482,71.8431\" style=\"fill:none;fill-rule:evenodd;stroke:#000000;stroke-width:2.0px;stroke-linecap:butt;stroke-linejoin:miter;stroke-opacity:1;stroke-dasharray:6,6\"/>\n",
       "<path class=\"bond-7\" d=\"M 300.23,81.2513 L 310.17,79.0192\" style=\"fill:none;fill-rule:evenodd;stroke:#0000FF;stroke-width:2.0px;stroke-linecap:butt;stroke-linejoin:miter;stroke-opacity:1\"/>\n",
       "<path class=\"bond-7\" d=\"M 310.17,79.0192 L 320.111,76.7871\" style=\"fill:none;fill-rule:evenodd;stroke:#000000;stroke-width:2.0px;stroke-linecap:butt;stroke-linejoin:miter;stroke-opacity:1\"/>\n",
       "<path class=\"bond-8\" d=\"M 320.111,76.7871 L 336.084,94.1246\" style=\"fill:none;fill-rule:evenodd;stroke:#000000;stroke-width:2.0px;stroke-linecap:butt;stroke-linejoin:miter;stroke-opacity:1\"/>\n",
       "<path class=\"bond-8\" d=\"M 325.974,76.193 L 337.156,88.3292\" style=\"fill:none;fill-rule:evenodd;stroke:#000000;stroke-width:2.0px;stroke-linecap:butt;stroke-linejoin:miter;stroke-opacity:1;stroke-dasharray:6,6\"/>\n",
       "<path class=\"bond-16\" d=\"M 320.111,76.7871 L 327.138,54.2846\" style=\"fill:none;fill-rule:evenodd;stroke:#000000;stroke-width:2.0px;stroke-linecap:butt;stroke-linejoin:miter;stroke-opacity:1\"/>\n",
       "<path class=\"bond-16\" d=\"M 325.665,74.8173 L 330.585,59.0655\" style=\"fill:none;fill-rule:evenodd;stroke:#000000;stroke-width:2.0px;stroke-linecap:butt;stroke-linejoin:miter;stroke-opacity:1;stroke-dasharray:6,6\"/>\n",
       "<path class=\"bond-9\" d=\"M 336.084,94.1246 L 359.086,88.9596\" style=\"fill:none;fill-rule:evenodd;stroke:#000000;stroke-width:2.0px;stroke-linecap:butt;stroke-linejoin:miter;stroke-opacity:1\"/>\n",
       "<path class=\"bond-9\" d=\"M 338.502,88.7495 L 354.603,85.134\" style=\"fill:none;fill-rule:evenodd;stroke:#000000;stroke-width:2.0px;stroke-linecap:butt;stroke-linejoin:miter;stroke-opacity:1;stroke-dasharray:6,6\"/>\n",
       "<path class=\"bond-10\" d=\"M 359.086,88.9596 L 366.114,66.457\" style=\"fill:none;fill-rule:evenodd;stroke:#000000;stroke-width:2.0px;stroke-linecap:butt;stroke-linejoin:miter;stroke-opacity:1\"/>\n",
       "<path class=\"bond-10\" d=\"M 355.64,84.1786 L 360.559,68.4269\" style=\"fill:none;fill-rule:evenodd;stroke:#000000;stroke-width:2.0px;stroke-linecap:butt;stroke-linejoin:miter;stroke-opacity:1;stroke-dasharray:6,6\"/>\n",
       "<path class=\"bond-13\" d=\"M 366.114,66.457 L 350.14,49.1196\" style=\"fill:none;fill-rule:evenodd;stroke:#000000;stroke-width:2.0px;stroke-linecap:butt;stroke-linejoin:miter;stroke-opacity:1\"/>\n",
       "<path class=\"bond-13\" d=\"M 360.25,67.0512 L 349.069,54.915\" style=\"fill:none;fill-rule:evenodd;stroke:#000000;stroke-width:2.0px;stroke-linecap:butt;stroke-linejoin:miter;stroke-opacity:1;stroke-dasharray:6,6\"/>\n",
       "<path class=\"bond-14\" d=\"M 366.114,66.457 L 376.327,64.1636\" style=\"fill:none;fill-rule:evenodd;stroke:#000000;stroke-width:2.0px;stroke-linecap:butt;stroke-linejoin:miter;stroke-opacity:1\"/>\n",
       "<path class=\"bond-14\" d=\"M 376.327,64.1636 L 386.541,61.8701\" style=\"fill:none;fill-rule:evenodd;stroke:#33CCCC;stroke-width:2.0px;stroke-linecap:butt;stroke-linejoin:miter;stroke-opacity:1\"/>\n",
       "<path class=\"bond-11\" d=\"M 350.14,49.1196 L 327.138,54.2846\" style=\"fill:none;fill-rule:evenodd;stroke:#000000;stroke-width:2.0px;stroke-linecap:butt;stroke-linejoin:miter;stroke-opacity:1\"/>\n",
       "<path class=\"bond-11\" d=\"M 347.723,54.4946 L 331.622,58.1102\" style=\"fill:none;fill-rule:evenodd;stroke:#000000;stroke-width:2.0px;stroke-linecap:butt;stroke-linejoin:miter;stroke-opacity:1;stroke-dasharray:6,6\"/>\n",
       "<path class=\"bond-12\" d=\"M 350.14,49.1196 L 352.99,39.9947\" style=\"fill:none;fill-rule:evenodd;stroke:#000000;stroke-width:2.0px;stroke-linecap:butt;stroke-linejoin:miter;stroke-opacity:1\"/>\n",
       "<path class=\"bond-12\" d=\"M 352.99,39.9947 L 355.839,30.8699\" style=\"fill:none;fill-rule:evenodd;stroke:#00CC00;stroke-width:2.0px;stroke-linecap:butt;stroke-linejoin:miter;stroke-opacity:1\"/>\n",
       "<path class=\"atom-1\" d=\"M 233.278 42.3044 L 235.465 45.8406 Q 235.682 46.1895, 236.031 46.8213 Q 236.38 47.4531, 236.399 47.4908 L 236.399 42.3044 L 237.285 42.3044 L 237.285 48.9807 L 236.371 48.9807 L 234.023 45.1145 Q 233.749 44.6619, 233.457 44.1432 Q 233.174 43.6246, 233.089 43.4643 L 233.089 48.9807 L 232.221 48.9807 L 232.221 42.3044 L 233.278 42.3044 \" fill=\"#0000FF\"/>\n",
       "<path class=\"atom-4\" d=\"M 262.82 98.063 L 265.007 101.599 Q 265.224 101.948, 265.573 102.58 Q 265.922 103.212, 265.941 103.249 L 265.941 98.063 L 266.827 98.063 L 266.827 104.739 L 265.913 104.739 L 263.565 100.873 Q 263.291 100.42, 262.999 99.9018 Q 262.716 99.3832, 262.631 99.2229 L 262.631 104.739 L 261.764 104.739 L 261.764 98.063 L 262.82 98.063 \" fill=\"#0000FF\"/>\n",
       "<path class=\"atom-5\" d=\"M 286.292 100.259 L 288.479 103.795 Q 288.696 104.144, 289.045 104.776 Q 289.394 105.407, 289.413 105.445 L 289.413 100.259 L 290.299 100.259 L 290.299 106.935 L 289.385 106.935 L 287.037 103.069 Q 286.763 102.616, 286.471 102.097 Q 286.188 101.579, 286.103 101.419 L 286.103 106.935 L 285.236 106.935 L 285.236 100.259 L 286.292 100.259 \" fill=\"#0000FF\"/>\n",
       "<path class=\"atom-6\" d=\"M 295.633 78.614 L 297.821 82.1502 Q 298.038 82.4991, 298.387 83.1309 Q 298.736 83.7627, 298.754 83.8004 L 298.754 78.614 L 299.641 78.614 L 299.641 85.2903 L 298.726 85.2903 L 296.378 81.4241 Q 296.105 80.9715, 295.812 80.4528 Q 295.529 79.9342, 295.445 79.7739 L 295.445 85.2903 L 294.577 85.2903 L 294.577 78.614 L 295.633 78.614 \" fill=\"#0000FF\"/>\n",
       "<path class=\"atom-14\" d=\"M 354.593 26.8481 Q 354.593 25.1884, 355.367 24.3209 Q 356.149 23.4439, 357.63 23.4439 Q 359.006 23.4439, 359.742 24.4152 L 359.12 24.9244 Q 358.582 24.2172, 357.63 24.2172 Q 356.621 24.2172, 356.083 24.8961 Q 355.555 25.5656, 355.555 26.8481 Q 355.555 28.1682, 356.102 28.8472 Q 356.658 29.5261, 357.733 29.5261 Q 358.469 29.5261, 359.327 29.0829 L 359.591 29.7901 Q 359.242 30.0165, 358.714 30.1485 Q 358.186 30.2805, 357.601 30.2805 Q 356.149 30.2805, 355.367 29.3941 Q 354.593 28.5077, 354.593 26.8481 \" fill=\"#00CC00\"/>\n",
       "<path class=\"atom-14\" d=\"M 360.553 23.0384 L 361.421 23.0384 L 361.421 30.1956 L 360.553 30.1956 L 360.553 23.0384 \" fill=\"#00CC00\"/>\n",
       "<path class=\"atom-15\" d=\"M 387.13 57.9539 L 391.1 57.9539 L 391.1 58.7177 L 388.026 58.7177 L 388.026 60.7451 L 390.761 60.7451 L 390.761 61.5183 L 388.026 61.5183 L 388.026 64.6301 L 387.13 64.6301 L 387.13 57.9539 \" fill=\"#33CCCC\"/>\n",
       "<path d=\"M 300.28 187.12 Q 301.272 187.12, 302.088 187.552 Q 302.904 187.968, 303.368 188.768 Q 303.832 189.552, 303.832 190.624 Q 303.832 191.792, 303.256 192.64 Q 302.696 193.472, 301.768 193.904 Q 300.84 194.336, 299.784 194.336 Q 298.744 194.336, 297.784 193.952 Q 296.824 193.568, 296.168 192.832 L 297.128 191.84 Q 297.656 192.416, 298.376 192.736 Q 299.096 193.04, 299.832 193.04 Q 300.84 193.04, 301.528 192.416 Q 302.232 191.792, 302.232 190.656 Q 302.232 189.456, 301.528 188.896 Q 300.84 188.32, 299.736 188.32 Q 298.744 188.32, 297.64 188.752 L 296.76 188.336 L 297.304 182.88 L 303.128 182.88 L 302.968 184.16 L 298.616 184.16 L 298.28 187.52 Q 299.288 187.12, 300.28 187.12 \" fill=\"#000000\"/>\n",
       "<path class=\"bond-0\" d=\"M 520.62,127.944 L 519.472,118.221\" style=\"fill:none;fill-rule:evenodd;stroke:#FF0000;stroke-width:2.0px;stroke-linecap:butt;stroke-linejoin:miter;stroke-opacity:1\"/>\n",
       "<path class=\"bond-0\" d=\"M 519.472,118.221 L 518.325,108.498\" style=\"fill:none;fill-rule:evenodd;stroke:#000000;stroke-width:2.0px;stroke-linecap:butt;stroke-linejoin:miter;stroke-opacity:1\"/>\n",
       "<path class=\"bond-0\" d=\"M 515.937,128.497 L 514.79,118.774\" style=\"fill:none;fill-rule:evenodd;stroke:#FF0000;stroke-width:2.0px;stroke-linecap:butt;stroke-linejoin:miter;stroke-opacity:1\"/>\n",
       "<path class=\"bond-0\" d=\"M 514.79,118.774 L 513.643,109.05\" style=\"fill:none;fill-rule:evenodd;stroke:#000000;stroke-width:2.0px;stroke-linecap:butt;stroke-linejoin:miter;stroke-opacity:1\"/>\n",
       "<path class=\"bond-1\" d=\"M 515.984,108.774 L 506.716,104.788\" style=\"fill:none;fill-rule:evenodd;stroke:#000000;stroke-width:2.0px;stroke-linecap:butt;stroke-linejoin:miter;stroke-opacity:1\"/>\n",
       "<path class=\"bond-1\" d=\"M 506.716,104.788 L 497.449,100.802\" style=\"fill:none;fill-rule:evenodd;stroke:#0000FF;stroke-width:2.0px;stroke-linecap:butt;stroke-linejoin:miter;stroke-opacity:1\"/>\n",
       "<path class=\"bond-16\" d=\"M 515.984,108.774 L 523.871,102.889\" style=\"fill:none;fill-rule:evenodd;stroke:#000000;stroke-width:2.0px;stroke-linecap:butt;stroke-linejoin:miter;stroke-opacity:1\"/>\n",
       "<path class=\"bond-16\" d=\"M 523.871,102.889 L 531.757,97.0047\" style=\"fill:none;fill-rule:evenodd;stroke:#0000FF;stroke-width:2.0px;stroke-linecap:butt;stroke-linejoin:miter;stroke-opacity:1\"/>\n",
       "<path class=\"bond-2\" d=\"M 493.864,95.5325 L 492.715,85.7902\" style=\"fill:none;fill-rule:evenodd;stroke:#0000FF;stroke-width:2.0px;stroke-linecap:butt;stroke-linejoin:miter;stroke-opacity:1\"/>\n",
       "<path class=\"bond-2\" d=\"M 492.715,85.7902 L 491.565,76.0479\" style=\"fill:none;fill-rule:evenodd;stroke:#000000;stroke-width:2.0px;stroke-linecap:butt;stroke-linejoin:miter;stroke-opacity:1\"/>\n",
       "<path class=\"bond-6\" d=\"M 491.565,76.0479 L 469.909,66.734\" style=\"fill:none;fill-rule:evenodd;stroke:#000000;stroke-width:2.0px;stroke-linecap:butt;stroke-linejoin:miter;stroke-opacity:1\"/>\n",
       "<path class=\"bond-7\" d=\"M 491.565,76.0479 L 510.46,61.9498\" style=\"fill:none;fill-rule:evenodd;stroke:#000000;stroke-width:2.0px;stroke-linecap:butt;stroke-linejoin:miter;stroke-opacity:1\"/>\n",
       "<path class=\"bond-4\" d=\"M 469.909,66.734 L 451.015,80.8322\" style=\"fill:none;fill-rule:evenodd;stroke:#000000;stroke-width:2.0px;stroke-linecap:butt;stroke-linejoin:miter;stroke-opacity:1\"/>\n",
       "<path class=\"bond-4\" d=\"M 464.255,65.0699 L 451.029,74.9386\" style=\"fill:none;fill-rule:evenodd;stroke:#000000;stroke-width:2.0px;stroke-linecap:butt;stroke-linejoin:miter;stroke-opacity:1;stroke-dasharray:6,6\"/>\n",
       "<path class=\"bond-5\" d=\"M 472.25,66.4578 L 469.488,43.0458\" style=\"fill:none;fill-rule:evenodd;stroke:#000000;stroke-width:2.0px;stroke-linecap:butt;stroke-linejoin:miter;stroke-opacity:1\"/>\n",
       "<path class=\"bond-5\" d=\"M 467.568,67.0103 L 464.806,43.5982\" style=\"fill:none;fill-rule:evenodd;stroke:#000000;stroke-width:2.0px;stroke-linecap:butt;stroke-linejoin:miter;stroke-opacity:1;stroke-dasharray:6,6\"/>\n",
       "<path class=\"bond-3\" d=\"M 451.946,78.6665 L 430.289,69.3526\" style=\"fill:none;fill-rule:evenodd;stroke:#000000;stroke-width:2.0px;stroke-linecap:butt;stroke-linejoin:miter;stroke-opacity:1\"/>\n",
       "<path class=\"bond-3\" d=\"M 450.083,82.9978 L 428.427,73.6839\" style=\"fill:none;fill-rule:evenodd;stroke:#000000;stroke-width:2.0px;stroke-linecap:butt;stroke-linejoin:miter;stroke-opacity:1;stroke-dasharray:6,6\"/>\n",
       "<path class=\"bond-13\" d=\"M 510.46,61.9498 L 532.116,71.2637\" style=\"fill:none;fill-rule:evenodd;stroke:#000000;stroke-width:2.0px;stroke-linecap:butt;stroke-linejoin:miter;stroke-opacity:1\"/>\n",
       "<path class=\"bond-14\" d=\"M 510.46,61.9498 L 507.698,38.5378\" style=\"fill:none;fill-rule:evenodd;stroke:#000000;stroke-width:2.0px;stroke-linecap:butt;stroke-linejoin:miter;stroke-opacity:1\"/>\n",
       "<path class=\"bond-8\" d=\"M 532.116,71.2637 L 533.266,81.006\" style=\"fill:none;fill-rule:evenodd;stroke:#000000;stroke-width:2.0px;stroke-linecap:butt;stroke-linejoin:miter;stroke-opacity:1\"/>\n",
       "<path class=\"bond-8\" d=\"M 533.266,81.006 L 534.415,90.7483\" style=\"fill:none;fill-rule:evenodd;stroke:#0000FF;stroke-width:2.0px;stroke-linecap:butt;stroke-linejoin:miter;stroke-opacity:1\"/>\n",
       "<path class=\"bond-9\" d=\"M 532.116,71.2637 L 542.057,71.8319\" style=\"fill:none;fill-rule:evenodd;stroke:#000000;stroke-width:2.0px;stroke-linecap:butt;stroke-linejoin:miter;stroke-opacity:1\"/>\n",
       "<path class=\"bond-9\" d=\"M 542.057,71.8319 L 551.998,72.4001\" style=\"fill:none;fill-rule:evenodd;stroke:#FF0000;stroke-width:2.0px;stroke-linecap:butt;stroke-linejoin:miter;stroke-opacity:1\"/>\n",
       "<path class=\"bond-10\" d=\"M 532.116,71.2637 L 537.528,48.3189\" style=\"fill:none;fill-rule:evenodd;stroke:#000000;stroke-width:2.0px;stroke-linecap:butt;stroke-linejoin:miter;stroke-opacity:1\"/>\n",
       "<path class=\"bond-11\" d=\"M 537.528,48.3189 L 547.529,45.3129\" style=\"fill:none;fill-rule:evenodd;stroke:#000000;stroke-width:2.0px;stroke-linecap:butt;stroke-linejoin:miter;stroke-opacity:1\"/>\n",
       "<path class=\"bond-11\" d=\"M 547.529,45.3129 L 557.53,42.3069\" style=\"fill:none;fill-rule:evenodd;stroke:#33CCCC;stroke-width:2.0px;stroke-linecap:butt;stroke-linejoin:miter;stroke-opacity:1\"/>\n",
       "<path class=\"bond-12\" d=\"M 537.528,48.3189 L 530.233,41.451\" style=\"fill:none;fill-rule:evenodd;stroke:#000000;stroke-width:2.0px;stroke-linecap:butt;stroke-linejoin:miter;stroke-opacity:1\"/>\n",
       "<path class=\"bond-12\" d=\"M 530.233,41.451 L 522.937,34.5832\" style=\"fill:none;fill-rule:evenodd;stroke:#33CCCC;stroke-width:2.0px;stroke-linecap:butt;stroke-linejoin:miter;stroke-opacity:1\"/>\n",
       "<path class=\"bond-15\" d=\"M 508.629,36.3721 L 499.628,32.5009\" style=\"fill:none;fill-rule:evenodd;stroke:#000000;stroke-width:2.0px;stroke-linecap:butt;stroke-linejoin:miter;stroke-opacity:1\"/>\n",
       "<path class=\"bond-15\" d=\"M 499.628,32.5009 L 490.626,28.6297\" style=\"fill:none;fill-rule:evenodd;stroke:#FF0000;stroke-width:2.0px;stroke-linecap:butt;stroke-linejoin:miter;stroke-opacity:1\"/>\n",
       "<path class=\"bond-15\" d=\"M 506.766,40.7034 L 497.765,36.8322\" style=\"fill:none;fill-rule:evenodd;stroke:#000000;stroke-width:2.0px;stroke-linecap:butt;stroke-linejoin:miter;stroke-opacity:1\"/>\n",
       "<path class=\"bond-15\" d=\"M 497.765,36.8322 L 488.764,32.961\" style=\"fill:none;fill-rule:evenodd;stroke:#FF0000;stroke-width:2.0px;stroke-linecap:butt;stroke-linejoin:miter;stroke-opacity:1\"/>\n",
       "<path class=\"atom-0\" d=\"M 515.682 132.205 Q 515.682 130.602, 516.474 129.706 Q 517.266 128.81, 518.746 128.81 Q 520.227 128.81, 521.019 129.706 Q 521.811 130.602, 521.811 132.205 Q 521.811 133.827, 521.009 134.751 Q 520.208 135.666, 518.746 135.666 Q 517.275 135.666, 516.474 134.751 Q 515.682 133.836, 515.682 132.205 M 518.746 134.911 Q 519.765 134.911, 520.312 134.232 Q 520.868 133.544, 520.868 132.205 Q 520.868 130.894, 520.312 130.234 Q 519.765 129.564, 518.746 129.564 Q 517.728 129.564, 517.171 130.225 Q 516.625 130.885, 516.625 132.205 Q 516.625 133.553, 517.171 134.232 Q 517.728 134.911, 518.746 134.911 \" fill=\"#FF0000\"/>\n",
       "<path class=\"atom-2\" d=\"M 492.852 96.1218 L 495.04 99.658 Q 495.256 100.007, 495.605 100.639 Q 495.954 101.27, 495.973 101.308 L 495.973 96.1218 L 496.859 96.1218 L 496.859 102.798 L 495.945 102.798 L 493.597 98.9319 Q 493.323 98.4793, 493.031 97.9606 Q 492.748 97.442, 492.663 97.2817 L 492.663 102.798 L 491.796 102.798 L 491.796 96.1218 L 492.852 96.1218 \" fill=\"#0000FF\"/>\n",
       "<path class=\"atom-10\" d=\"M 533.403 91.3376 L 535.59 94.8738 Q 535.807 95.2227, 536.156 95.8545 Q 536.505 96.4863, 536.524 96.524 L 536.524 91.3376 L 537.41 91.3376 L 537.41 98.0139 L 536.496 98.0139 L 534.148 94.1477 Q 533.874 93.6951, 533.582 93.1764 Q 533.299 92.6578, 533.214 92.4975 L 533.214 98.0139 L 532.347 98.0139 L 532.347 91.3376 L 533.403 91.3376 \" fill=\"#0000FF\"/>\n",
       "<path class=\"atom-11\" d=\"M 552.588 72.6278 Q 552.588 71.0248, 553.38 70.1289 Q 554.172 69.2331, 555.652 69.2331 Q 557.133 69.2331, 557.925 70.1289 Q 558.717 71.0248, 558.717 72.6278 Q 558.717 74.2497, 557.915 75.1739 Q 557.114 76.0885, 555.652 76.0885 Q 554.181 76.0885, 553.38 75.1739 Q 552.588 74.2592, 552.588 72.6278 M 555.652 75.3342 Q 556.671 75.3342, 557.218 74.6552 Q 557.774 73.9668, 557.774 72.6278 Q 557.774 71.3171, 557.218 70.657 Q 556.671 69.9875, 555.652 69.9875 Q 554.634 69.9875, 554.077 70.6476 Q 553.531 71.3077, 553.531 72.6278 Q 553.531 73.9763, 554.077 74.6552 Q 554.634 75.3342, 555.652 75.3342 \" fill=\"#FF0000\"/>\n",
       "<path class=\"atom-13\" d=\"M 558.12 38.1951 L 562.09 38.1951 L 562.09 38.9589 L 559.016 38.9589 L 559.016 40.9863 L 561.75 40.9863 L 561.75 41.7595 L 559.016 41.7595 L 559.016 44.8713 L 558.12 44.8713 L 558.12 38.1951 \" fill=\"#33CCCC\"/>\n",
       "<path class=\"atom-14\" d=\"M 518.378 28.8216 L 522.348 28.8216 L 522.348 29.5854 L 519.274 29.5854 L 519.274 31.6128 L 522.009 31.6128 L 522.009 32.386 L 519.274 32.386 L 519.274 35.4978 L 518.378 35.4978 L 518.378 28.8216 \" fill=\"#33CCCC\"/>\n",
       "<path class=\"atom-16\" d=\"M 482.976 29.2427 Q 482.976 27.6397, 483.768 26.7438 Q 484.561 25.848, 486.041 25.848 Q 487.522 25.848, 488.314 26.7438 Q 489.106 27.6397, 489.106 29.2427 Q 489.106 30.8646, 488.304 31.7888 Q 487.503 32.7034, 486.041 32.7034 Q 484.57 32.7034, 483.768 31.7888 Q 482.976 30.8741, 482.976 29.2427 M 486.041 31.9491 Q 487.059 31.9491, 487.606 31.2701 Q 488.163 30.5817, 488.163 29.2427 Q 488.163 27.932, 487.606 27.2719 Q 487.059 26.6024, 486.041 26.6024 Q 485.023 26.6024, 484.466 27.2625 Q 483.919 27.9225, 483.919 29.2427 Q 483.919 30.5912, 484.466 31.2701 Q 485.023 31.9491, 486.041 31.9491 \" fill=\"#FF0000\"/>\n",
       "<path d=\"M 496.216 185.088 Q 496.632 184.016, 497.624 183.424 Q 498.616 182.816, 499.992 182.816 Q 501.704 182.816, 502.664 183.744 Q 503.624 184.672, 503.624 186.32 Q 503.624 188, 502.376 189.568 Q 501.144 191.136, 498.584 192.992 L 503.816 192.992 L 503.816 194.272 L 496.184 194.272 L 496.184 193.2 Q 498.296 191.696, 499.544 190.576 Q 500.808 189.456, 501.416 188.448 Q 502.024 187.44, 502.024 186.4 Q 502.024 185.312, 501.48 184.704 Q 500.936 184.096, 499.992 184.096 Q 499.08 184.096, 498.472 184.464 Q 497.864 184.832, 497.432 185.648 L 496.216 185.088 \" fill=\"#000000\"/>\n",
       "<path class=\"bond-0\" d=\"M 671.34,50.1152 L 669.921,59.742\" style=\"fill:none;fill-rule:evenodd;stroke:#FF0000;stroke-width:2.0px;stroke-linecap:butt;stroke-linejoin:miter;stroke-opacity:1\"/>\n",
       "<path class=\"bond-0\" d=\"M 669.921,59.742 L 668.502,69.3687\" style=\"fill:none;fill-rule:evenodd;stroke:#000000;stroke-width:2.0px;stroke-linecap:butt;stroke-linejoin:miter;stroke-opacity:1\"/>\n",
       "<path class=\"bond-0\" d=\"M 676.005,50.8028 L 674.586,60.4296\" style=\"fill:none;fill-rule:evenodd;stroke:#FF0000;stroke-width:2.0px;stroke-linecap:butt;stroke-linejoin:miter;stroke-opacity:1\"/>\n",
       "<path class=\"bond-0\" d=\"M 674.586,60.4296 L 673.167,70.0563\" style=\"fill:none;fill-rule:evenodd;stroke:#000000;stroke-width:2.0px;stroke-linecap:butt;stroke-linejoin:miter;stroke-opacity:1\"/>\n",
       "<path class=\"bond-9\" d=\"M 670.834,69.7125 L 678.513,75.7955\" style=\"fill:none;fill-rule:evenodd;stroke:#000000;stroke-width:2.0px;stroke-linecap:butt;stroke-linejoin:miter;stroke-opacity:1\"/>\n",
       "<path class=\"bond-9\" d=\"M 678.513,75.7955 L 686.192,81.8784\" style=\"fill:none;fill-rule:evenodd;stroke:#0000FF;stroke-width:2.0px;stroke-linecap:butt;stroke-linejoin:miter;stroke-opacity:1\"/>\n",
       "<path class=\"bond-10\" d=\"M 670.834,69.7125 L 661.437,73.4361\" style=\"fill:none;fill-rule:evenodd;stroke:#000000;stroke-width:2.0px;stroke-linecap:butt;stroke-linejoin:miter;stroke-opacity:1\"/>\n",
       "<path class=\"bond-10\" d=\"M 661.437,73.4361 L 652.039,77.1596\" style=\"fill:none;fill-rule:evenodd;stroke:#0000FF;stroke-width:2.0px;stroke-linecap:butt;stroke-linejoin:miter;stroke-opacity:1\"/>\n",
       "<path class=\"bond-1\" d=\"M 692.435,83.1144 L 701.832,79.3908\" style=\"fill:none;fill-rule:evenodd;stroke:#0000FF;stroke-width:2.0px;stroke-linecap:butt;stroke-linejoin:miter;stroke-opacity:1\"/>\n",
       "<path class=\"bond-1\" d=\"M 701.832,79.3908 L 711.23,75.6672\" style=\"fill:none;fill-rule:evenodd;stroke:#000000;stroke-width:2.0px;stroke-linecap:butt;stroke-linejoin:miter;stroke-opacity:1\"/>\n",
       "<path class=\"bond-2\" d=\"M 711.23,75.6672 L 714.668,52.3448\" style=\"fill:none;fill-rule:evenodd;stroke:#000000;stroke-width:2.0px;stroke-linecap:butt;stroke-linejoin:miter;stroke-opacity:1\"/>\n",
       "<path class=\"bond-2\" d=\"M 716.41,72.8565 L 718.817,56.5308\" style=\"fill:none;fill-rule:evenodd;stroke:#000000;stroke-width:2.0px;stroke-linecap:butt;stroke-linejoin:miter;stroke-opacity:1;stroke-dasharray:6,6\"/>\n",
       "<path class=\"bond-13\" d=\"M 711.23,75.6672 L 729.709,90.3058\" style=\"fill:none;fill-rule:evenodd;stroke:#000000;stroke-width:2.0px;stroke-linecap:butt;stroke-linejoin:miter;stroke-opacity:1\"/>\n",
       "<path class=\"bond-13\" d=\"M 716.93,74.1673 L 729.865,84.4142\" style=\"fill:none;fill-rule:evenodd;stroke:#000000;stroke-width:2.0px;stroke-linecap:butt;stroke-linejoin:miter;stroke-opacity:1;stroke-dasharray:6,6\"/>\n",
       "<path class=\"bond-3\" d=\"M 714.668,52.3448 L 736.585,43.661\" style=\"fill:none;fill-rule:evenodd;stroke:#000000;stroke-width:2.0px;stroke-linecap:butt;stroke-linejoin:miter;stroke-opacity:1\"/>\n",
       "<path class=\"bond-3\" d=\"M 719.692,55.4256 L 735.034,49.3469\" style=\"fill:none;fill-rule:evenodd;stroke:#000000;stroke-width:2.0px;stroke-linecap:butt;stroke-linejoin:miter;stroke-opacity:1;stroke-dasharray:6,6\"/>\n",
       "<path class=\"bond-4\" d=\"M 736.585,43.661 L 755.064,58.2996\" style=\"fill:none;fill-rule:evenodd;stroke:#000000;stroke-width:2.0px;stroke-linecap:butt;stroke-linejoin:miter;stroke-opacity:1\"/>\n",
       "<path class=\"bond-4\" d=\"M 736.429,49.5526 L 749.364,59.7996\" style=\"fill:none;fill-rule:evenodd;stroke:#000000;stroke-width:2.0px;stroke-linecap:butt;stroke-linejoin:miter;stroke-opacity:1;stroke-dasharray:6,6\"/>\n",
       "<path class=\"bond-7\" d=\"M 755.064,58.2996 L 751.626,81.622\" style=\"fill:none;fill-rule:evenodd;stroke:#000000;stroke-width:2.0px;stroke-linecap:butt;stroke-linejoin:miter;stroke-opacity:1\"/>\n",
       "<path class=\"bond-7\" d=\"M 749.883,61.1103 L 747.477,77.436\" style=\"fill:none;fill-rule:evenodd;stroke:#000000;stroke-width:2.0px;stroke-linecap:butt;stroke-linejoin:miter;stroke-opacity:1;stroke-dasharray:6,6\"/>\n",
       "<path class=\"bond-8\" d=\"M 755.064,58.2996 L 764.735,54.4677\" style=\"fill:none;fill-rule:evenodd;stroke:#000000;stroke-width:2.0px;stroke-linecap:butt;stroke-linejoin:miter;stroke-opacity:1\"/>\n",
       "<path class=\"bond-8\" d=\"M 764.735,54.4677 L 774.406,50.6358\" style=\"fill:none;fill-rule:evenodd;stroke:#33CCCC;stroke-width:2.0px;stroke-linecap:butt;stroke-linejoin:miter;stroke-opacity:1\"/>\n",
       "<path class=\"bond-5\" d=\"M 751.626,81.622 L 729.709,90.3058\" style=\"fill:none;fill-rule:evenodd;stroke:#000000;stroke-width:2.0px;stroke-linecap:butt;stroke-linejoin:miter;stroke-opacity:1\"/>\n",
       "<path class=\"bond-5\" d=\"M 746.601,78.5412 L 731.26,84.6199\" style=\"fill:none;fill-rule:evenodd;stroke:#000000;stroke-width:2.0px;stroke-linecap:butt;stroke-linejoin:miter;stroke-opacity:1;stroke-dasharray:6,6\"/>\n",
       "<path class=\"bond-6\" d=\"M 751.626,81.622 L 759.283,87.6881\" style=\"fill:none;fill-rule:evenodd;stroke:#000000;stroke-width:2.0px;stroke-linecap:butt;stroke-linejoin:miter;stroke-opacity:1\"/>\n",
       "<path class=\"bond-6\" d=\"M 759.283,87.6881 L 766.941,93.7543\" style=\"fill:none;fill-rule:evenodd;stroke:#00CC00;stroke-width:2.0px;stroke-linecap:butt;stroke-linejoin:miter;stroke-opacity:1\"/>\n",
       "<path class=\"bond-11\" d=\"M 645.796,75.9237 L 638.118,69.8407\" style=\"fill:none;fill-rule:evenodd;stroke:#0000FF;stroke-width:2.0px;stroke-linecap:butt;stroke-linejoin:miter;stroke-opacity:1\"/>\n",
       "<path class=\"bond-11\" d=\"M 638.118,69.8407 L 630.439,63.7577\" style=\"fill:none;fill-rule:evenodd;stroke:#000000;stroke-width:2.0px;stroke-linecap:butt;stroke-linejoin:miter;stroke-opacity:1\"/>\n",
       "<path class=\"bond-12\" d=\"M 630.439,63.7577 L 608.522,72.4416\" style=\"fill:none;fill-rule:evenodd;stroke:#000000;stroke-width:2.0px;stroke-linecap:butt;stroke-linejoin:miter;stroke-opacity:1;stroke-dasharray:2,6\"/>\n",
       "<path class=\"atom-0\" d=\"M 671.208 46.409 Q 671.208 44.8059, 672 43.9101 Q 672.792 43.0142, 674.272 43.0142 Q 675.753 43.0142, 676.545 43.9101 Q 677.337 44.8059, 677.337 46.409 Q 677.337 48.0309, 676.536 48.955 Q 675.734 49.8697, 674.272 49.8697 Q 672.801 49.8697, 672 48.955 Q 671.208 48.0403, 671.208 46.409 M 674.272 49.1153 Q 675.291 49.1153, 675.838 48.4364 Q 676.394 47.748, 676.394 46.409 Q 676.394 45.0982, 675.838 44.4381 Q 675.291 43.7686, 674.272 43.7686 Q 673.254 43.7686, 672.698 44.4287 Q 672.151 45.0888, 672.151 46.409 Q 672.151 47.7574, 672.698 48.4364 Q 673.254 49.1153, 674.272 49.1153 \" fill=\"#FF0000\"/>\n",
       "<path class=\"atom-2\" d=\"M 687.838 81.0129 L 690.025 84.5491 Q 690.242 84.898, 690.591 85.5298 Q 690.94 86.1616, 690.959 86.1993 L 690.959 81.0129 L 691.845 81.0129 L 691.845 87.6892 L 690.93 87.6892 L 688.582 83.823 Q 688.309 83.3704, 688.017 82.8517 Q 687.734 82.3331, 687.649 82.1728 L 687.649 87.6892 L 686.781 87.6892 L 686.781 81.0129 L 687.838 81.0129 \" fill=\"#0000FF\"/>\n",
       "<path class=\"atom-9\" d=\"M 767.53 96.4916 Q 767.53 94.8319, 768.303 93.9644 Q 769.086 93.0874, 770.566 93.0874 Q 771.943 93.0874, 772.679 94.0587 L 772.056 94.5679 Q 771.519 93.8607, 770.566 93.8607 Q 769.557 93.8607, 769.02 94.5396 Q 768.492 95.2091, 768.492 96.4916 Q 768.492 97.8117, 769.039 98.4907 Q 769.595 99.1696, 770.67 99.1696 Q 771.406 99.1696, 772.264 98.7264 L 772.528 99.4336 Q 772.179 99.66, 771.651 99.792 Q 771.123 99.924, 770.538 99.924 Q 769.086 99.924, 768.303 99.0376 Q 767.53 98.1512, 767.53 96.4916 \" fill=\"#00CC00\"/>\n",
       "<path class=\"atom-9\" d=\"M 773.49 92.6819 L 774.357 92.6819 L 774.357 99.8391 L 773.49 99.8391 L 773.49 92.6819 \" fill=\"#00CC00\"/>\n",
       "<path class=\"atom-10\" d=\"M 774.995 46.2776 L 778.965 46.2776 L 778.965 47.0414 L 775.891 47.0414 L 775.891 49.0688 L 778.626 49.0688 L 778.626 49.8421 L 775.891 49.8421 L 775.891 52.9539 L 774.995 52.9539 L 774.995 46.2776 \" fill=\"#33CCCC\"/>\n",
       "<path class=\"atom-11\" d=\"M 647.442 75.0582 L 649.63 78.5943 Q 649.847 78.9432, 650.195 79.575 Q 650.544 80.2068, 650.563 80.2445 L 650.563 75.0582 L 651.45 75.0582 L 651.45 81.7344 L 650.535 81.7344 L 648.187 77.8682 Q 647.913 77.4156, 647.621 76.897 Q 647.338 76.3783, 647.253 76.218 L 647.253 81.7344 L 646.386 81.7344 L 646.386 75.0582 L 647.442 75.0582 \" fill=\"#0000FF\"/>\n",
       "<path d=\"M 696.216 185.088 Q 696.632 184.016, 697.624 183.424 Q 698.616 182.816, 699.992 182.816 Q 701.704 182.816, 702.664 183.744 Q 703.624 184.672, 703.624 186.32 Q 703.624 188, 702.376 189.568 Q 701.144 191.136, 698.584 192.992 L 703.816 192.992 L 703.816 194.272 L 696.184 194.272 L 696.184 193.2 Q 698.296 191.696, 699.544 190.576 Q 700.808 189.456, 701.416 188.448 Q 702.024 187.44, 702.024 186.4 Q 702.024 185.312, 701.48 184.704 Q 700.936 184.096, 699.992 184.096 Q 699.08 184.096, 698.472 184.464 Q 697.864 184.832, 697.432 185.648 L 696.216 185.088 \" fill=\"#000000\"/>\n",
       "</svg>"
      ],
      "text/plain": [
       "<IPython.core.display.SVG object>"
      ]
     },
     "execution_count": 12,
     "metadata": {},
     "output_type": "execute_result"
    }
   ],
   "source": [
    "idx = 3 # Number of grouping to show, between 0 and NUM_GROUPS-1\n",
    "\n",
    "### Show groups ###\n",
    "toplist = TOPLIST[idx]\n",
    "toplist_idx = TOPLIST_IDX[idx]\n",
    "associated_nums = ASSOCIATED_NUMs[idx]\n",
    "associated_rationales = ASSOCIATED_RATIONALES[idx]\n",
    "rationales_left = RATIONALES_LEFT[idx]\n",
    "\n",
    "print(\"Number of rationales:\",len(rationales))  # all rationales\n",
    "print(\"Number of associated rationales in each group:\", associated_nums)\n",
    "print(\"Total number of associated rationales in all groups:\", sum(associated_nums)) # associated with scaffold\n",
    "print(\"Number of remaining rationales:\", len(rationales_left)) # not associated \n",
    "\n",
    "redrawTL = []\n",
    "for x in toplist_idx:\n",
    "    ss = []\n",
    "    for i in x:\n",
    "        ss.append(rationales[i])\n",
    "    redrawTL.append(Chem.MolFromSmarts(rdFMCS.FindMCS(ss,timeout=1).smartsString))\n",
    "\n",
    "srt=sorted(zip(associated_nums,range(len(associated_nums))),reverse=True)\n",
    "Draw.DrawingOptions.atomLabelFontSize =30\n",
    "img=Draw.MolsToGridImage([redrawTL[ss[1]] for ss in srt], molsPerRow=5,maxMols=1000,legends=[str(ss[0]) for ss in srt], useSVG=True)\n",
    "img"
   ]
  },
  {
   "cell_type": "code",
   "execution_count": null,
   "metadata": {},
   "outputs": [],
   "source": []
  }
 ],
 "metadata": {
  "kernelspec": {
   "display_name": "Python 3 (ipykernel)",
   "language": "python",
   "name": "python3"
  },
  "language_info": {
   "codemirror_mode": {
    "name": "ipython",
    "version": 3
   },
   "file_extension": ".py",
   "mimetype": "text/x-python",
   "name": "python",
   "nbconvert_exporter": "python",
   "pygments_lexer": "ipython3",
   "version": "3.8.6"
  }
 },
 "nbformat": 4,
 "nbformat_minor": 4
}
